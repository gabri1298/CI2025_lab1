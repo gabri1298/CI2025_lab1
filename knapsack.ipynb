{
 "cells": [
  {
   "cell_type": "markdown",
   "id": "8edaa9fc",
   "metadata": {},
   "source": [
    "Copyright **`(c)`** 2025 Giovanni Squillero `<giovanni.squillero@polito.it>`  \n",
    "[`https://github.com/squillero/computational-intelligence`](https://github.com/squillero/computational-intelligence)  \n",
    "Free under certain conditions — see the [`license`](https://github.com/squillero/computational-intelligence/blob/master/LICENSE.md) for details.  "
   ]
  },
  {
   "cell_type": "code",
   "execution_count": 264,
   "id": "ee81262a",
   "metadata": {},
   "outputs": [],
   "source": [
    "import numpy as np\n",
    "from dataclasses import dataclass\n",
    "from typing import Optional, Tuple\n",
    "from icecream import ic"
   ]
  },
  {
   "cell_type": "code",
   "execution_count": 265,
   "id": "0b886ef6",
   "metadata": {},
   "outputs": [],
   "source": [
    "def inspect_solution(solution):\n",
    "\n",
    "    for k in range(NUM_KNAPSACKS):\n",
    "        mask = solution == k\n",
    "        items = np.where(mask)[0].tolist()\n",
    "        if len(items) == 0:\n",
    "            continue\n",
    "        weights_sum = WEIGHTS[mask].sum(axis=0)\n",
    "\n",
    "        if (weights_sum > CONSTRAINTS[k]).any():\n",
    "            return False\n",
    "    \n",
    "    return True"
   ]
  },
  {
   "cell_type": "markdown",
   "id": "fedfd11b",
   "metadata": {},
   "source": [
    "Source / Inspiration:\n",
    "Greedy start solution inspired by \"Multidimensional knapsack problem\" — Wikipedia\n",
    "https://en.wikipedia.org/wiki/Multidimensional_knapsack_problem\n",
    "\n",
    "Implementation adapted for this notebook."
   ]
  },
  {
   "cell_type": "code",
   "execution_count": 294,
   "id": "fe6432ce",
   "metadata": {},
   "outputs": [],
   "source": [
    "\n",
    "@dataclass\n",
    "class State:\n",
    "    assign: np.ndarray   \n",
    "    loads: np.ndarray    \n",
    "    value: int           \n",
    "\n",
    "def initial_empty() -> State:\n",
    "    return State(\n",
    "        assign=np.full(NUM_ITEMS, -1, dtype=np.int32),\n",
    "        loads=np.zeros((NUM_KNAPSACKS, NUM_DIMENSIONS), dtype=np.int64),\n",
    "        value=0\n",
    "    )\n",
    "\n",
    "def greedy_fill(rng: np.random.Generator) -> State:\n",
    "    \n",
    "    st = initial_empty()\n",
    "    score = VALUES / (1.0 + WEIGHTS.mean(axis=1))\n",
    "    for i in np.argsort(-score):\n",
    "        for k in rng.permutation(NUM_KNAPSACKS):\n",
    "            new_loads = st.loads[k] + WEIGHTS[i]\n",
    "            if np.all(new_loads <= CONSTRAINTS[k]):\n",
    "                st.assign[i] = k\n",
    "                st.loads[k] = new_loads\n",
    "                st.value += int(VALUES[i])\n",
    "                break\n",
    "    return st\n",
    "\n",
    "\n",
    "def feasible_move(st: State, item: int, dest: int) -> bool:\n",
    "    \n",
    "    cur = st.assign[item]\n",
    "    if cur == dest:\n",
    "        return True\n",
    "    if dest >= 0:\n",
    "        after = st.loads[dest] + WEIGHTS[item]\n",
    "        if np.any(after > CONSTRAINTS[dest]):\n",
    "            return False\n",
    "    return True\n",
    "\n",
    "def apply_move(st: State, item: int, dest: int):\n",
    "    cur = st.assign[item]\n",
    "    if cur == dest:\n",
    "        return\n",
    "    w = WEIGHTS[item]\n",
    "    if cur >= 0:\n",
    "        st.loads[cur] -= w\n",
    "        st.value -= int(VALUES[item])\n",
    "    if dest >= 0:\n",
    "        st.loads[dest] += w\n",
    "        st.value += int(VALUES[item])\n",
    "    st.assign[item] = dest\n",
    "\n",
    "def random_feasible_move(st: State, rng: np.random.Generator, max_tries: int = 50) -> Optional[Tuple[int, int, int]]:\n",
    "    \n",
    "    for _ in range(max_tries):\n",
    "        i = int(rng.integers(0, NUM_ITEMS))\n",
    "        dest = int(rng.integers(-1, NUM_KNAPSACKS))\n",
    "        if not feasible_move(st, i, dest):\n",
    "            continue\n",
    "        cur_val = VALUES[i] if st.assign[i] >= 0 else 0\n",
    "        new_val = VALUES[i] if dest >= 0 else 0\n",
    "        delta = int(new_val - cur_val)\n",
    "        return (delta, i, dest)\n",
    "    return None\n",
    "\n",
    "\n",
    "def hill_climbing(rng: np.random.Generator, start: Optional[State] = None, steps: int = 1500, max_tries: int = 50):\n",
    "    st = start if start is not None else greedy_fill(rng)\n",
    "    \n",
    "    for _ in tqdm(range(steps)):\n",
    "        mv = random_feasible_move(st, rng, max_tries=max_tries)\n",
    "        if mv is None: continue\n",
    "        delta, i, dest = mv\n",
    "        if delta >= 0:\n",
    "            apply_move(st, i, dest)\n",
    "    return st"
   ]
  },
  {
   "cell_type": "markdown",
   "id": "a5c1814e",
   "metadata": {},
   "source": [
    "## TEST PROBLEMS"
   ]
  },
  {
   "cell_type": "code",
   "execution_count": 295,
   "id": "d06574e9",
   "metadata": {},
   "outputs": [
    {
     "data": {
      "application/vnd.jupyter.widget-view+json": {
       "model_id": "8a2d379450204a329f5a461bcde433ca",
       "version_major": 2,
       "version_minor": 0
      },
      "text/plain": [
       "  0%|          | 0/1000 [00:00<?, ?it/s]"
      ]
     },
     "metadata": {},
     "output_type": "display_data"
    },
    {
     "name": "stderr",
     "output_type": "stream",
     "text": [
      "ic| valid: True\n"
     ]
    },
    {
     "name": "stdout",
     "output_type": "stream",
     "text": [
      "Valore=1065  Assegnati=20  Non assegnati=0\n"
     ]
    },
    {
     "data": {
      "text/plain": [
       "True"
      ]
     },
     "execution_count": 295,
     "metadata": {},
     "output_type": "execute_result"
    }
   ],
   "source": [
    "# Problem 1:\n",
    "rng = np.random.default_rng(seed=42)\n",
    "NUM_KNAPSACKS = 3\n",
    "NUM_ITEMS = 20\n",
    "NUM_DIMENSIONS = 2\n",
    "VALUES = rng.integers(0, 100, size=NUM_ITEMS)\n",
    "WEIGHTS = rng.integers(0, 100, size=(NUM_ITEMS, NUM_DIMENSIONS))\n",
    "CONSTRAINTS = rng.integers(\n",
    "    0, 100 * NUM_ITEMS // NUM_KNAPSACKS, size=(NUM_KNAPSACKS, NUM_DIMENSIONS)\n",
    ")\n",
    "\n",
    "start = greedy_fill(np.random.default_rng())\n",
    "best = hill_climbing(np.random.default_rng(), start=start, steps=1000, max_tries=50)\n",
    "assigned = int((best.assign >= 0).sum())\n",
    "print(f\"Valore={best.value}  Assegnati={assigned}  Non assegnati={NUM_ITEMS - assigned}\")\n",
    "valid = inspect_solution(best.assign)\n",
    "ic(valid)"
   ]
  },
  {
   "cell_type": "code",
   "execution_count": 313,
   "id": "e8ec190e",
   "metadata": {},
   "outputs": [
    {
     "data": {
      "application/vnd.jupyter.widget-view+json": {
       "model_id": "e4873876277245e787d89a8f86bbe658",
       "version_major": 2,
       "version_minor": 0
      },
      "text/plain": [
       "  0%|          | 0/20000 [00:00<?, ?it/s]"
      ]
     },
     "metadata": {},
     "output_type": "display_data"
    },
    {
     "name": "stderr",
     "output_type": "stream",
     "text": [
      "ic| valid: True\n"
     ]
    },
    {
     "name": "stdout",
     "output_type": "stream",
     "text": [
      "Valore=46504  Assegnati=74  Non assegnati=26\n"
     ]
    },
    {
     "data": {
      "text/plain": [
       "True"
      ]
     },
     "execution_count": 313,
     "metadata": {},
     "output_type": "execute_result"
    }
   ],
   "source": [
    "# Problem 2:\n",
    "rng = np.random.default_rng(seed=42)\n",
    "NUM_KNAPSACKS = 10\n",
    "NUM_ITEMS = 100\n",
    "NUM_DIMENSIONS = 10\n",
    "VALUES = rng.integers(0, 1000, size=NUM_ITEMS)\n",
    "WEIGHTS = rng.integers(0, 1000, size=(NUM_ITEMS, NUM_DIMENSIONS))\n",
    "CONSTRAINTS = rng.integers(\n",
    "    1000 * 2, 1000 * NUM_ITEMS // NUM_KNAPSACKS, size=(NUM_KNAPSACKS, NUM_DIMENSIONS)\n",
    ")\n",
    "\n",
    "start = greedy_fill(np.random.default_rng())\n",
    "best = hill_climbing(np.random.default_rng(), start=start, steps=20000, max_tries=50)\n",
    "assigned = int((best.assign >= 0).sum())\n",
    "print(f\"Valore={best.value}  Assegnati={assigned}  Non assegnati={NUM_ITEMS - assigned}\")\n",
    "valid = inspect_solution(best.assign)\n",
    "ic(valid)"
   ]
  },
  {
   "cell_type": "code",
   "execution_count": 314,
   "id": "d83e19ed",
   "metadata": {},
   "outputs": [
    {
     "data": {
      "application/vnd.jupyter.widget-view+json": {
       "model_id": "a071aa0e430f45378420de182224a6df",
       "version_major": 2,
       "version_minor": 0
      },
      "text/plain": [
       "  0%|          | 0/50000 [00:00<?, ?it/s]"
      ]
     },
     "metadata": {},
     "output_type": "display_data"
    },
    {
     "name": "stderr",
     "output_type": "stream",
     "text": [
      "ic| valid: True\n"
     ]
    },
    {
     "name": "stdout",
     "output_type": "stream",
     "text": [
      "Valore=1884322  Assegnati=2748  Non assegnati=2252\n"
     ]
    },
    {
     "data": {
      "text/plain": [
       "True"
      ]
     },
     "execution_count": 314,
     "metadata": {},
     "output_type": "execute_result"
    }
   ],
   "source": [
    "# Problem 3:\n",
    "rng = np.random.default_rng(seed=42)\n",
    "NUM_KNAPSACKS = 100\n",
    "NUM_ITEMS = 5000\n",
    "NUM_DIMENSIONS = 100\n",
    "VALUES = rng.integers(0, 1000, size=NUM_ITEMS)\n",
    "WEIGHTS = rng.integers(0, 1000, size=(NUM_ITEMS, NUM_DIMENSIONS))\n",
    "CONSTRAINTS = rng.integers(\n",
    "    1000 * 10, 1000 * 2 * NUM_ITEMS // NUM_KNAPSACKS, size=(NUM_KNAPSACKS, NUM_DIMENSIONS)\n",
    ")\n",
    "start = greedy_fill(np.random.default_rng())\n",
    "best = hill_climbing(np.random.default_rng(), start=start, steps=50000, max_tries=50)\n",
    "assigned = int((best.assign >= 0).sum())\n",
    "print(f\"Valore={best.value}  Assegnati={assigned}  Non assegnati={NUM_ITEMS - assigned}\")\n",
    "valid = inspect_solution(best.assign)\n",
    "ic(valid)"
   ]
  }
 ],
 "metadata": {
  "kernelspec": {
   "display_name": "venv",
   "language": "python",
   "name": "python3"
  },
  "language_info": {
   "codemirror_mode": {
    "name": "ipython",
    "version": 3
   },
   "file_extension": ".py",
   "mimetype": "text/x-python",
   "name": "python",
   "nbconvert_exporter": "python",
   "pygments_lexer": "ipython3",
   "version": "3.13.3"
  }
 },
 "nbformat": 4,
 "nbformat_minor": 5
}
